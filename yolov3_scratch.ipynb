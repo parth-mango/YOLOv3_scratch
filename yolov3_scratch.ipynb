{
  "nbformat": 4,
  "nbformat_minor": 0,
  "metadata": {
    "colab": {
      "name": "yolov3_scratch.ipynb",
      "provenance": [],
      "collapsed_sections": [],
      "authorship_tag": "ABX9TyPEEgqIhIg+XLFXSi5eHQqu",
      "include_colab_link": true
    },
    "kernelspec": {
      "name": "python3",
      "display_name": "Python 3"
    },
    "language_info": {
      "name": "python"
    }
  },
  "cells": [
    {
      "cell_type": "markdown",
      "metadata": {
        "id": "view-in-github",
        "colab_type": "text"
      },
      "source": [
        "<a href=\"https://colab.research.google.com/github/parth-mango/YOLOv3_scratch/blob/main/yolov3_scratch.ipynb\" target=\"_parent\"><img src=\"https://colab.research.google.com/assets/colab-badge.svg\" alt=\"Open In Colab\"/></a>"
      ]
    },
    {
      "cell_type": "code",
      "metadata": {
        "colab": {
          "base_uri": "https://localhost:8080/"
        },
        "id": "kDMD3XF1xSNr",
        "outputId": "e9b02246-532a-47f4-fcff-a1995e32d7ad"
      },
      "source": [
        "%cd /content/"
      ],
      "execution_count": 1,
      "outputs": [
        {
          "output_type": "stream",
          "name": "stdout",
          "text": [
            "/content\n"
          ]
        }
      ]
    },
    {
      "cell_type": "code",
      "metadata": {
        "id": "QENcgXOGM2Kb",
        "colab": {
          "base_uri": "https://localhost:8080/"
        },
        "outputId": "44b04d11-cfb3-458a-f678-24c96da9edce"
      },
      "source": [
        "# !pip install PyYAML==5.4.1\n",
        "# !pip install -q wandb"
      ],
      "execution_count": 2,
      "outputs": [
        {
          "output_type": "stream",
          "name": "stdout",
          "text": [
            "Collecting PyYAML==5.4.1\n",
            "  Downloading PyYAML-5.4.1-cp37-cp37m-manylinux1_x86_64.whl (636 kB)\n",
            "\u001b[?25l\r\u001b[K     |▌                               | 10 kB 19.4 MB/s eta 0:00:01\r\u001b[K     |█                               | 20 kB 26.8 MB/s eta 0:00:01\r\u001b[K     |█▌                              | 30 kB 14.1 MB/s eta 0:00:01\r\u001b[K     |██                              | 40 kB 10.4 MB/s eta 0:00:01\r\u001b[K     |██▋                             | 51 kB 7.1 MB/s eta 0:00:01\r\u001b[K     |███                             | 61 kB 7.2 MB/s eta 0:00:01\r\u001b[K     |███▋                            | 71 kB 7.5 MB/s eta 0:00:01\r\u001b[K     |████▏                           | 81 kB 8.4 MB/s eta 0:00:01\r\u001b[K     |████▋                           | 92 kB 7.7 MB/s eta 0:00:01\r\u001b[K     |█████▏                          | 102 kB 6.8 MB/s eta 0:00:01\r\u001b[K     |█████▋                          | 112 kB 6.8 MB/s eta 0:00:01\r\u001b[K     |██████▏                         | 122 kB 6.8 MB/s eta 0:00:01\r\u001b[K     |██████▊                         | 133 kB 6.8 MB/s eta 0:00:01\r\u001b[K     |███████▏                        | 143 kB 6.8 MB/s eta 0:00:01\r\u001b[K     |███████▊                        | 153 kB 6.8 MB/s eta 0:00:01\r\u001b[K     |████████▎                       | 163 kB 6.8 MB/s eta 0:00:01\r\u001b[K     |████████▊                       | 174 kB 6.8 MB/s eta 0:00:01\r\u001b[K     |█████████▎                      | 184 kB 6.8 MB/s eta 0:00:01\r\u001b[K     |█████████▉                      | 194 kB 6.8 MB/s eta 0:00:01\r\u001b[K     |██████████▎                     | 204 kB 6.8 MB/s eta 0:00:01\r\u001b[K     |██████████▉                     | 215 kB 6.8 MB/s eta 0:00:01\r\u001b[K     |███████████▎                    | 225 kB 6.8 MB/s eta 0:00:01\r\u001b[K     |███████████▉                    | 235 kB 6.8 MB/s eta 0:00:01\r\u001b[K     |████████████▍                   | 245 kB 6.8 MB/s eta 0:00:01\r\u001b[K     |████████████▉                   | 256 kB 6.8 MB/s eta 0:00:01\r\u001b[K     |█████████████▍                  | 266 kB 6.8 MB/s eta 0:00:01\r\u001b[K     |██████████████                  | 276 kB 6.8 MB/s eta 0:00:01\r\u001b[K     |██████████████▍                 | 286 kB 6.8 MB/s eta 0:00:01\r\u001b[K     |███████████████                 | 296 kB 6.8 MB/s eta 0:00:01\r\u001b[K     |███████████████▍                | 307 kB 6.8 MB/s eta 0:00:01\r\u001b[K     |████████████████                | 317 kB 6.8 MB/s eta 0:00:01\r\u001b[K     |████████████████▌               | 327 kB 6.8 MB/s eta 0:00:01\r\u001b[K     |█████████████████               | 337 kB 6.8 MB/s eta 0:00:01\r\u001b[K     |█████████████████▌              | 348 kB 6.8 MB/s eta 0:00:01\r\u001b[K     |██████████████████              | 358 kB 6.8 MB/s eta 0:00:01\r\u001b[K     |██████████████████▌             | 368 kB 6.8 MB/s eta 0:00:01\r\u001b[K     |███████████████████             | 378 kB 6.8 MB/s eta 0:00:01\r\u001b[K     |███████████████████▋            | 389 kB 6.8 MB/s eta 0:00:01\r\u001b[K     |████████████████████            | 399 kB 6.8 MB/s eta 0:00:01\r\u001b[K     |████████████████████▋           | 409 kB 6.8 MB/s eta 0:00:01\r\u001b[K     |█████████████████████           | 419 kB 6.8 MB/s eta 0:00:01\r\u001b[K     |█████████████████████▋          | 430 kB 6.8 MB/s eta 0:00:01\r\u001b[K     |██████████████████████▏         | 440 kB 6.8 MB/s eta 0:00:01\r\u001b[K     |██████████████████████▋         | 450 kB 6.8 MB/s eta 0:00:01\r\u001b[K     |███████████████████████▏        | 460 kB 6.8 MB/s eta 0:00:01\r\u001b[K     |███████████████████████▊        | 471 kB 6.8 MB/s eta 0:00:01\r\u001b[K     |████████████████████████▏       | 481 kB 6.8 MB/s eta 0:00:01\r\u001b[K     |████████████████████████▊       | 491 kB 6.8 MB/s eta 0:00:01\r\u001b[K     |█████████████████████████▏      | 501 kB 6.8 MB/s eta 0:00:01\r\u001b[K     |█████████████████████████▊      | 512 kB 6.8 MB/s eta 0:00:01\r\u001b[K     |██████████████████████████▎     | 522 kB 6.8 MB/s eta 0:00:01\r\u001b[K     |██████████████████████████▊     | 532 kB 6.8 MB/s eta 0:00:01\r\u001b[K     |███████████████████████████▎    | 542 kB 6.8 MB/s eta 0:00:01\r\u001b[K     |███████████████████████████▉    | 552 kB 6.8 MB/s eta 0:00:01\r\u001b[K     |████████████████████████████▎   | 563 kB 6.8 MB/s eta 0:00:01\r\u001b[K     |████████████████████████████▉   | 573 kB 6.8 MB/s eta 0:00:01\r\u001b[K     |█████████████████████████████▍  | 583 kB 6.8 MB/s eta 0:00:01\r\u001b[K     |█████████████████████████████▉  | 593 kB 6.8 MB/s eta 0:00:01\r\u001b[K     |██████████████████████████████▍ | 604 kB 6.8 MB/s eta 0:00:01\r\u001b[K     |██████████████████████████████▉ | 614 kB 6.8 MB/s eta 0:00:01\r\u001b[K     |███████████████████████████████▍| 624 kB 6.8 MB/s eta 0:00:01\r\u001b[K     |████████████████████████████████| 634 kB 6.8 MB/s eta 0:00:01\r\u001b[K     |████████████████████████████████| 636 kB 6.8 MB/s \n",
            "\u001b[?25hInstalling collected packages: PyYAML\n",
            "  Attempting uninstall: PyYAML\n",
            "    Found existing installation: PyYAML 3.13\n",
            "    Uninstalling PyYAML-3.13:\n",
            "      Successfully uninstalled PyYAML-3.13\n",
            "Successfully installed PyYAML-5.4.1\n",
            "\u001b[K     |████████████████████████████████| 1.7 MB 8.2 MB/s \n",
            "\u001b[K     |████████████████████████████████| 97 kB 7.1 MB/s \n",
            "\u001b[K     |████████████████████████████████| 140 kB 52.1 MB/s \n",
            "\u001b[K     |████████████████████████████████| 180 kB 50.1 MB/s \n",
            "\u001b[K     |████████████████████████████████| 63 kB 1.8 MB/s \n",
            "\u001b[?25h  Building wheel for subprocess32 (setup.py) ... \u001b[?25l\u001b[?25hdone\n",
            "  Building wheel for pathtools (setup.py) ... \u001b[?25l\u001b[?25hdone\n"
          ]
        }
      ]
    },
    {
      "cell_type": "code",
      "metadata": {
        "id": "pwW1hNYlqbaq"
      },
      "source": [
        "import logging\n",
        "import yaml\n",
        "from pathlib import Path\n",
        "import glob\n",
        "import re\n",
        "import os\n",
        "import wandb"
      ],
      "execution_count": 3,
      "outputs": []
    },
    {
      "cell_type": "code",
      "metadata": {
        "id": "MAe2nsRcPXj3"
      },
      "source": [
        "LOCAL_RANK= int(os.getenv('LOCAL_RANK', -1)) #os.getenv() method in Python returns the value of the environment variable key if it exists otherwise returns the default value.\n",
        "RANK = int(os.getenv('RANK', -1)) \n",
        "WORLD_SIZE = int(os.getenv('WORLD_SIZE', 1))"
      ],
      "execution_count": 21,
      "outputs": []
    },
    {
      "cell_type": "code",
      "metadata": {
        "id": "1EJNok7llS50"
      },
      "source": [
        "# FILE= Path(__file__).resolve()\n",
        "ROOT= Path('/content/')"
      ],
      "execution_count": 4,
      "outputs": []
    },
    {
      "cell_type": "code",
      "source": [
        "!mkdir utils\n",
        "%cd /content/utils/\n",
        "!mkdir loggers\n",
        "%cd /content/utils/loggers/\n",
        "!mkdir wandb\n",
        "%cd /content/\n",
        "!mkdir data\n",
        "%cd /content/data/\n",
        "!mkdir scripts\n",
        "%cd /content/\n",
        "!mkdir datasets\n",
        "%cd /content/"
      ],
      "metadata": {
        "id": "ulHqU5LoamD-",
        "colab": {
          "base_uri": "https://localhost:8080/"
        },
        "outputId": "d4996598-5e75-4f40-a56b-304f6823a54e"
      },
      "execution_count": 5,
      "outputs": [
        {
          "output_type": "stream",
          "name": "stdout",
          "text": [
            "/content/utils\n",
            "/content/utils/loggers\n",
            "/content\n",
            "/content/data\n",
            "/content\n",
            "/content\n"
          ]
        }
      ]
    },
    {
      "cell_type": "code",
      "source": [
        "# # Upload folllowing files: \n",
        "# # 1. init.py for loggers\n",
        "# # 2. general.py \n",
        "# !mv general.py /content/utils\n",
        "# !mv __init__.py /content/utils/loggers\n",
        "# !mv wandb_utils.py /content/utils/loggers/wandb/\n",
        "# !mv coco128.yaml /content/data/\n",
        "# !mv get_coco128.sh /content/data/scripts/\n",
        "!rm -rf /content/runs"
      ],
      "metadata": {
        "id": "QoTAI9lnay-w"
      },
      "execution_count": 6,
      "outputs": []
    },
    {
      "cell_type": "code",
      "source": [
        "!bash /content/data/scripts/get_coco128.sh"
      ],
      "metadata": {
        "id": "nI4-omGQqG_A",
        "colab": {
          "base_uri": "https://localhost:8080/"
        },
        "outputId": "169c29ce-f34f-4175-d5eb-50f957fd6396"
      },
      "execution_count": 7,
      "outputs": [
        {
          "output_type": "stream",
          "name": "stdout",
          "text": [
            "Downloading https://github.com/ultralytics/yolov5/releases/download/v1.0/coco128.zip  ...\n",
            "  % Total    % Received % Xferd  Average Speed   Time    Time     Time  Current\n",
            "                                 Dload  Upload   Total   Spent    Left  Speed\n",
            "100   650  100   650    0     0   2425      0 --:--:-- --:--:-- --:--:--  2416\n",
            "100 6820k  100 6820k    0     0  11.3M      0 --:--:-- --:--:-- --:--:-- 11.3M\n"
          ]
        }
      ]
    },
    {
      "cell_type": "code",
      "metadata": {
        "id": "wX2qY-8suK-L",
        "colab": {
          "base_uri": "https://localhost:8080/",
          "height": 52
        },
        "outputId": "8e3da1a5-5e71-4993-d337-625175ff010a"
      },
      "source": [
        "from utils.general import colorstr\n",
        "from utils.loggers import Loggers\n",
        "from utils.general import LOGGER, methods"
      ],
      "execution_count": 8,
      "outputs": [
        {
          "output_type": "display_data",
          "data": {
            "application/javascript": [
              "\n",
              "        window._wandbApiKey = new Promise((resolve, reject) => {\n",
              "            function loadScript(url) {\n",
              "            return new Promise(function(resolve, reject) {\n",
              "                let newScript = document.createElement(\"script\");\n",
              "                newScript.onerror = reject;\n",
              "                newScript.onload = resolve;\n",
              "                document.body.appendChild(newScript);\n",
              "                newScript.src = url;\n",
              "            });\n",
              "            }\n",
              "            loadScript(\"https://cdn.jsdelivr.net/npm/postmate/build/postmate.min.js\").then(() => {\n",
              "            const iframe = document.createElement('iframe')\n",
              "            iframe.style.cssText = \"width:0;height:0;border:none\"\n",
              "            document.body.appendChild(iframe)\n",
              "            const handshake = new Postmate({\n",
              "                container: iframe,\n",
              "                url: 'https://wandb.ai/authorize'\n",
              "            });\n",
              "            const timeout = setTimeout(() => reject(\"Couldn't auto authenticate\"), 5000)\n",
              "            handshake.then(function(child) {\n",
              "                child.on('authorize', data => {\n",
              "                    clearTimeout(timeout)\n",
              "                    resolve(data)\n",
              "                });\n",
              "            });\n",
              "            })\n",
              "        });\n",
              "    "
            ],
            "text/plain": [
              "<IPython.core.display.Javascript object>"
            ]
          },
          "metadata": {}
        },
        {
          "output_type": "stream",
          "name": "stderr",
          "text": [
            "\u001b[34m\u001b[1mwandb\u001b[0m: Appending key for api.wandb.ai to your netrc file: /root/.netrc\n"
          ]
        }
      ]
    },
    {
      "cell_type": "code",
      "metadata": {
        "id": "-FbepC_VZl5y"
      },
      "source": [
        "import argparse"
      ],
      "execution_count": 9,
      "outputs": []
    },
    {
      "cell_type": "code",
      "metadata": {
        "id": "WjTeFseTY6ch"
      },
      "source": [
        "parser = argparse.ArgumentParser()\n",
        "parser.add_argument('--weights', type=str, default=ROOT / 'yolov3.pt', help='initial weights path')\n",
        "parser.add_argument('--cfg', type=str, default='', help='model.yaml path')\n",
        "parser.add_argument('--data', type=str, default=ROOT / 'data/coco128.yaml', help='dataset.yaml path')\n",
        "parser.add_argument('--hyp', type=str, default=ROOT / 'data/hyps/hyp.scratch.yaml', help='hyperparameters path')\n",
        "parser.add_argument('--epochs', type=int, default=300)\n",
        "parser.add_argument('--batch-size', type=int, default=16, help='total batch size for all GPUs, -1 for autobatch')\n",
        "parser.add_argument('--imgsz', '--img', '--img-size', type=int, default=640, help='train, val image size (pixels)')\n",
        "parser.add_argument('--rect', action='store_true', help='rectangular training')\n",
        "parser.add_argument('--resume', nargs='?', const=True, default=False, help='resume most recent training')\n",
        "parser.add_argument('--nosave', action='store_true', help='only save final checkpoint')\n",
        "parser.add_argument('--noval', action='store_true', help='only validate final epoch')\n",
        "parser.add_argument('--noautoanchor', action='store_true', help='disable autoanchor check')\n",
        "parser.add_argument('--evolve', type=int, nargs='?', const=300, help='evolve hyperparameters for x generations')\n",
        "parser.add_argument('--bucket', type=str, default='', help='gsutil bucket')\n",
        "parser.add_argument('--cache', type=str, nargs='?', const='ram', help='--cache images in \"ram\" (default) or \"disk\"')\n",
        "parser.add_argument('--image-weights', action='store_true', help='use weighted image selection for training')\n",
        "parser.add_argument('--device', default='', help='cuda device, i.e. 0 or 0,1,2,3 or cpu')\n",
        "parser.add_argument('--multi-scale', action='store_true', help='vary img-size +/- 50%%')\n",
        "parser.add_argument('--single-cls', action='store_true', help='train multi-class data as single-class')\n",
        "parser.add_argument('--adam', action='store_true', help='use torch.optim.Adam() optimizer')\n",
        "parser.add_argument('--sync-bn', action='store_true', help='use SyncBatchNorm, only available in DDP mode')\n",
        "parser.add_argument('--workers', type=int, default=8, help='max dataloader workers (per RANK in DDP mode)')\n",
        "parser.add_argument('--project', default=ROOT / 'runs/train', help='save to project/name')\n",
        "parser.add_argument('--name', default='exp', help='save to project/name')\n",
        "parser.add_argument('--exist-ok', action='store_true', help='existing project/name ok, do not increment')\n",
        "parser.add_argument('--quad', action='store_true', help='quad dataloader')\n",
        "parser.add_argument('--linear-lr', action='store_true', help='linear LR')\n",
        "parser.add_argument('--label-smoothing', type=float, default=0.0, help='Label smoothing epsilon')\n",
        "parser.add_argument('--patience', type=int, default=100, help='EarlyStopping patience (epochs without improvement)')\n",
        "parser.add_argument('--freeze', type=int, default=0, help='Number of layers to freeze. backbone=10, all=24')\n",
        "parser.add_argument('--save-period', type=int, default=-1, help='Save checkpoint every x epochs (disabled if < 1)')\n",
        "parser.add_argument('--local_rank', type=int, default=-1, help='DDP parameter, do not modify')\n",
        "\n",
        "# Weights & Biases arguments\n",
        "parser.add_argument('--entity', default=None, help='W&B: Entity')\n",
        "parser.add_argument('--upload_dataset', action='store_true', help='W&B: Upload dataset as artifact table')\n",
        "parser.add_argument('--bbox_interval', type=int, default=-1, help='W&B: Set bounding-box image logging interval')\n",
        "parser.add_argument('--artifact_alias', type=str, default='latest', help='W&B: Version of dataset artifact to use')\n",
        "opt = parser.parse_args(\"\")"
      ],
      "execution_count": 10,
      "outputs": []
    },
    {
      "cell_type": "code",
      "metadata": {
        "id": "VGlvwZ8ZdA7t"
      },
      "source": [
        "def increment_path(path, exist_ok= False, sep= '', mkdir= False):\n",
        "  #Increment file or directory path i.e. runs/exp --> runs/exp{sep}2 --> runs/exp{sep}3, ...etc\n",
        "  path = Path(path)\n",
        "  if path.exists() and not exist_ok:\n",
        "    \n",
        "    path, suffix= (path.with_suffix(''), path.suffix) if path.is_file() else (path, '')\n",
        "    dirs= glob.glob(f\"{path}{sep}*\")\n",
        "    matches= [re.search(rf\"%s{sep}(\\d+)\" % path.stem, d) for d in dirs]\n",
        "    i = [int(m.groups()[0]) for m in matches if m] #indices\n",
        "    n= max(i) + 1 if i else 2 # increment number\n",
        "    path= Path(f\"{path}{sep}{n}{suffix}\") #increment path\n",
        "  if mkdir:\n",
        "    path.mkdir(parents= True, exist_ok= True) #make directory\n",
        "  return path \n",
        "    "
      ],
      "execution_count": 11,
      "outputs": []
    },
    {
      "cell_type": "code",
      "metadata": {
        "id": "RMM0EnTgcPRX",
        "colab": {
          "base_uri": "https://localhost:8080/"
        },
        "outputId": "265e7815-404b-4b06-858c-c8d8d6d9e5fe"
      },
      "source": [
        "increment_path(Path(opt.project)) "
      ],
      "execution_count": 12,
      "outputs": [
        {
          "output_type": "execute_result",
          "data": {
            "text/plain": [
              "PosixPath('/content/runs/train')"
            ]
          },
          "metadata": {},
          "execution_count": 12
        }
      ]
    },
    {
      "cell_type": "code",
      "metadata": {
        "id": "_eiboVN_cv2j"
      },
      "source": [
        "opt.save_dir = str(increment_path(Path(opt.project) / opt.name, exist_ok=opt.exist_ok ))"
      ],
      "execution_count": 13,
      "outputs": []
    },
    {
      "cell_type": "code",
      "metadata": {
        "id": "-hE7VQifW0Zn"
      },
      "source": [
        "save_dir, epochs, batch_size, weights, single_cls, evolve, data, cfg, resume, noval, nosave, workers, freeze = \\\n",
        "Path(opt.save_dir), opt.epochs, opt.batch_size, opt.weights, \\\n",
        "opt.single_cls, opt.evolve, opt.data, opt.cfg, opt.resume, opt.noval, opt.nosave, opt.workers, opt.freeze    "
      ],
      "execution_count": 14,
      "outputs": []
    },
    {
      "cell_type": "code",
      "metadata": {
        "id": "dlUUdDoeFdQK"
      },
      "source": [
        "w= save_dir / 'weights'  #weights dir\n",
        "(w.parent if evolve else w ).mkdir(parents= True, exist_ok= True)\n",
        "last, best = w / 'last.pt', w / 'best.pt'\n"
      ],
      "execution_count": 15,
      "outputs": []
    },
    {
      "cell_type": "code",
      "metadata": {
        "id": "080GwngPxtNK"
      },
      "source": [
        "hyp_f= '/content/hyp.scratch.yaml'"
      ],
      "execution_count": 16,
      "outputs": []
    },
    {
      "cell_type": "code",
      "metadata": {
        "id": "b4XBCHtoxpHZ"
      },
      "source": [
        "\n",
        "with open(hyp_f) as f:\n",
        "        hyp = yaml.safe_load(f)"
      ],
      "execution_count": 17,
      "outputs": []
    },
    {
      "cell_type": "code",
      "metadata": {
        "id": "x4HEy1xTteJ5",
        "colab": {
          "base_uri": "https://localhost:8080/"
        },
        "outputId": "10b32c06-87ce-4a80-d6bf-0b33879650bd"
      },
      "source": [
        "LOGGER.info(colorstr('hyperparameters:') + ', '.join(f'{k}={v}' for k, v in hyp.items() ))"
      ],
      "execution_count": 18,
      "outputs": [
        {
          "output_type": "stream",
          "name": "stderr",
          "text": [
            "\u001b[34m\u001b[1mhyperparameters:\u001b[0mlr0=0.01, lrf=0.1, momentum=0.937, weight_decay=0.0005, warmup_epochs=3.0, warmup_momentum=0.8, warmup_bias_lr=0.1, box=0.05, cls=0.5, cls_pw=1.0, obj=1.0, obj_pw=1.0, iou_t=0.2, anchor_t=4.0, fl_gamma=0.0, hsv_h=0.015, hsv_s=0.7, hsv_v=0.4, degrees=0.0, translate=0.1, scale=0.5, shear=0.0, perspective=0.0, flipud=0.0, fliplr=0.5, mosaic=1.0, mixup=0.0, copy_paste=0.0\n"
          ]
        }
      ]
    },
    {
      "cell_type": "code",
      "metadata": {
        "id": "g3Y2shhrHXaG"
      },
      "source": [
        "with open(save_dir / 'hyp.yaml' , 'w') as f:\n",
        "  yaml.safe_dump(hyp, f, sort_keys= False)\n",
        "with open(save_dir / 'opt.yaml', 'w') as f:\n",
        "  yaml.dump(vars(opt), f, sort_keys= False)   #conf1\n",
        "\n",
        "data_dict= None  "
      ],
      "execution_count": 19,
      "outputs": []
    },
    {
      "cell_type": "code",
      "metadata": {
        "id": "NtcWa_tXPGjp",
        "colab": {
          "base_uri": "https://localhost:8080/",
          "height": 234
        },
        "outputId": "58303f10-4f01-4682-a859-5d2edbc9bbd8"
      },
      "source": [
        "#Loggers\n",
        "if RANK in [-1, 0]:\n",
        "  loggers= Loggers(save_dir, weights, opt, hyp, logger= LOGGER)  \n",
        "  if loggers.wandb:\n",
        "    data_dict= loggers.wandb.data_dict\n",
        "    if resume:\n",
        "      weights, epochs, hyp= opt.weights, opt.epochs, opt.hyp\n",
        "\n",
        "  #Register actions\n",
        "  for k in methods(loggers):\n",
        "    callbacks.register_action(k, callback= getattr(loggers, k))"
      ],
      "execution_count": 20,
      "outputs": [
        {
          "output_type": "error",
          "ename": "NameError",
          "evalue": "ignored",
          "traceback": [
            "\u001b[0;31m---------------------------------------------------------------------------\u001b[0m",
            "\u001b[0;31mNameError\u001b[0m                                 Traceback (most recent call last)",
            "\u001b[0;32m<ipython-input-20-f06fcf06597e>\u001b[0m in \u001b[0;36m<module>\u001b[0;34m()\u001b[0m\n\u001b[1;32m      1\u001b[0m \u001b[0;31m#Loggers\u001b[0m\u001b[0;34m\u001b[0m\u001b[0;34m\u001b[0m\u001b[0;34m\u001b[0m\u001b[0m\n\u001b[0;32m----> 2\u001b[0;31m \u001b[0;32mif\u001b[0m \u001b[0mRANK\u001b[0m \u001b[0;32min\u001b[0m \u001b[0;34m[\u001b[0m\u001b[0;34m-\u001b[0m\u001b[0;36m1\u001b[0m\u001b[0;34m,\u001b[0m \u001b[0;36m0\u001b[0m\u001b[0;34m]\u001b[0m\u001b[0;34m:\u001b[0m\u001b[0;34m\u001b[0m\u001b[0;34m\u001b[0m\u001b[0m\n\u001b[0m\u001b[1;32m      3\u001b[0m   \u001b[0mloggers\u001b[0m\u001b[0;34m=\u001b[0m \u001b[0mLoggers\u001b[0m\u001b[0;34m(\u001b[0m\u001b[0msave_dir\u001b[0m\u001b[0;34m,\u001b[0m \u001b[0mweights\u001b[0m\u001b[0;34m,\u001b[0m \u001b[0mopt\u001b[0m\u001b[0;34m,\u001b[0m \u001b[0mhyp\u001b[0m\u001b[0;34m,\u001b[0m \u001b[0mlogger\u001b[0m\u001b[0;34m=\u001b[0m \u001b[0mLOGGER\u001b[0m\u001b[0;34m)\u001b[0m\u001b[0;34m\u001b[0m\u001b[0;34m\u001b[0m\u001b[0m\n\u001b[1;32m      4\u001b[0m   \u001b[0;32mif\u001b[0m \u001b[0mloggers\u001b[0m\u001b[0;34m.\u001b[0m\u001b[0mwandb\u001b[0m\u001b[0;34m:\u001b[0m\u001b[0;34m\u001b[0m\u001b[0;34m\u001b[0m\u001b[0m\n\u001b[1;32m      5\u001b[0m     \u001b[0mdata_dict\u001b[0m\u001b[0;34m=\u001b[0m \u001b[0mloggers\u001b[0m\u001b[0;34m.\u001b[0m\u001b[0mwandb\u001b[0m\u001b[0;34m.\u001b[0m\u001b[0mdata_dict\u001b[0m\u001b[0;34m\u001b[0m\u001b[0;34m\u001b[0m\u001b[0m\n",
            "\u001b[0;31mNameError\u001b[0m: name 'RANK' is not defined"
          ]
        }
      ]
    }
  ]
}